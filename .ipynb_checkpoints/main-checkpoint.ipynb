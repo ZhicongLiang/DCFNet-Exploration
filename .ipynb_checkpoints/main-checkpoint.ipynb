{
 "cells": [
  {
   "cell_type": "code",
   "execution_count": 1,
   "metadata": {},
   "outputs": [],
   "source": [
    "from __future__ import print_function\n",
    "import sys\n",
    "sys.path.append('./models/')\n",
    "import argparse\n",
    "import torch\n",
    "import torch.nn as nn\n",
    "import torch.nn.functional as F\n",
    "import torch.optim as optim\n",
    "from torchvision import datasets, transforms\n",
    "import matplotlib.pyplot as plt\n",
    "import numpy as np\n",
    "from models.resnet_dcf import ResNet50\n",
    "import pandas as pd\n",
    "import warnings\n",
    "warnings.filterwarnings('ignore')"
   ]
  },
  {
   "cell_type": "code",
   "execution_count": 2,
   "metadata": {},
   "outputs": [],
   "source": [
    "def load_data(batch_size, kwargs):\n",
    "    train_loader = torch.utils.data.DataLoader(\n",
    "        datasets.CIFAR10('../data/cifar10', train=True, download=True,\n",
    "                   transform=transforms.Compose([\n",
    "                        transforms.RandomCrop(32, padding=4),\n",
    "                        transforms.RandomHorizontalFlip(),\n",
    "                        transforms.ToTensor(),\n",
    "                        transforms.Normalize((0.4914, 0.4822, 0.4465), (0.2023, 0.1994, 0.2010)),\n",
    "                    ])),\n",
    "                batch_size=batch_size, shuffle=True, **kwargs)\n",
    "    \n",
    "    test_loader = torch.utils.data.DataLoader(\n",
    "        datasets.CIFAR10('../data/cifar10', train=False, download=True,\n",
    "                        transform=transforms.Compose([\n",
    "                        transforms.ToTensor(),\n",
    "                        transforms.Normalize((0.4914, 0.4822, 0.4465), (0.2023, 0.1994, 0.2010)),\n",
    "                       ])),\n",
    "        batch_size=batch_size, shuffle=True, **kwargs)\n",
    "    return train_loader, test_loader\n",
    "\n",
    "def train(model, device, train_loader, optimizer, epoch, L1_norm=0):\n",
    "    # switch to training mode\n",
    "    model.train()\n",
    "    for batch_idx, (data, target) in enumerate(train_loader):\n",
    "        data, target = data.to(device), target.to(device)\n",
    "        optimizer.zero_grad()\n",
    "        output = model(data)\n",
    "        if L1_norm>0:\n",
    "            loss_L1 = sum([torch.norm(param, 1) for param in model.parameters()])\n",
    "        else:\n",
    "            loss_L1 = 0\n",
    "        loss = F.nll_loss(F.log_softmax(output), target) + loss_L1*L1_norm\n",
    "        loss.backward()\n",
    "        optimizer.step()   \n",
    "        if batch_idx % log_interval == 0:\n",
    "            print('Train Epoch: {} [{}/{} ({:.0f}%)]\\tLoss: {:.6f}'.format(\n",
    "                epoch, batch_idx * len(data), len(train_loader.dataset),\n",
    "                100. * batch_idx / len(train_loader), loss.item()))\n",
    "\n",
    "def test(model, device, test_loader, mode):\n",
    "    # switch to evluation mode\n",
    "    model.eval()\n",
    "    test_loss = 0\n",
    "    correct = 0\n",
    "    with torch.no_grad():\n",
    "        for data, target in test_loader:\n",
    "            data, target = data.to(device), target.to(device)\n",
    "            output = model(data)\n",
    "            test_loss += F.nll_loss(F.log_softmax(output), target, reduction='sum').item() # sum up batch loss\n",
    "            pred = output.max(1, keepdim=True)[1] # get the index of the max log-probability\n",
    "            correct += pred.eq(target.view_as(pred)).sum().item()\n",
    "\n",
    "    test_loss /= len(test_loader.dataset)\n",
    "    test_acc =  correct / len(test_loader.dataset)\n",
    "    print('\\n', mode, 'set: Average loss: {:.4f}, Accuracy: {}/{} ({:.3f}%)\\n'.format(\n",
    "        test_loss, correct, len(test_loader.dataset),\n",
    "        100. * test_acc))\n",
    "    return test_loss, test_acc\n",
    "\n",
    "\n",
    "def main(model, batch_size, lr, momentum, epochs, weight_decay, \n",
    "         step_size, gamma, L1_norm, GPU, test_id ,no_cuda=True):\n",
    "    \n",
    "    use_cuda = not no_cuda and torch.cuda.is_available()\n",
    "    print('use_cude:', use_cuda)\n",
    "    torch.manual_seed(seed)\n",
    "    device = torch.device(GPU if use_cuda else \"cpu\")\n",
    "    kwargs = {'num_workers': 4, 'pin_memory': True} if use_cuda else {}\n",
    "    model.to(device)\n",
    "    \n",
    "    train_loader, test_loader = load_data(batch_size, kwargs)\n",
    "    \n",
    "    optimizer = optim.SGD(model.parameters(), lr=lr, momentum=momentum, weight_decay=weight_decay)\n",
    "    \n",
    "    scheduler = optim.lr_scheduler.StepLR(optimizer, step_size=step_size, gamma=gamma)\n",
    "    \n",
    "    for epoch in range(1, epochs + 1):    \n",
    "        scheduler.step()\n",
    "        train(model, device, train_loader, optimizer, L1_norm =L1_norm, epoch=epoch)\n",
    "        tr_loss, tr_acc = test(model, device, train_loader, 'train') \n",
    "        te_loss, te_acc = test(model, device, test_loader, 'test')  \n",
    "        loss[epoch-1,0] = tr_loss\n",
    "        loss[epoch-1,1] = te_loss\n",
    "        accuracy[epoch-1,0] = tr_acc\n",
    "        accuracy[epoch-1,1] = te_acc\n",
    "        \n",
    "        log = pd.DataFrame(columns=['loss_train','loss_val','acc_train','acc_test'])\n",
    "        log['loss_train'] = loss[:,0]\n",
    "        log['loss_val'] = loss[:,1]\n",
    "        log['acc_train'] = accuracy[:,0]\n",
    "        log['acc_test'] = accuracy[:,1]\n",
    "        log.to_csv('../log/log_%d.csv'%test_id,index=False)\n",
    "        if epoch%300 == 0:\n",
    "            checkpoint = {\n",
    "                'state_dict': model.state_dict(),\n",
    "                'acc': te_acc,\n",
    "                'loss': te_loss\n",
    "                }\n",
    "            torch.save(checkpoint, '../tmp_models/model_%d_epoch_%d_acc_%.4f.pth'%(test_id, epoch, te_acc))\n"
   ]
  },
  {
   "cell_type": "code",
   "execution_count": 3,
   "metadata": {},
   "outputs": [],
   "source": [
    "def plot(loss, accuracy):\n",
    "    plt.figure(figsize=(8,10))\n",
    "    \n",
    "    plt.subplot(2,1,1)\n",
    "    plt.plot(loss[:,0], 'o-')\n",
    "    plt.plot(loss[:,1], '.-')\n",
    "    plt.legend(['train', 'test'])\n",
    "    plt.xlabel('epoch')\n",
    "    plt.title('loss')\n",
    "    \n",
    "    plt.subplot(2,1,2)\n",
    "    plt.plot(accuracy[:,0], 'o-')\n",
    "    plt.plot(accuracy[:,1], '.-')\n",
    "    plt.legend(['train', 'test'])\n",
    "    plt.title('accuracy')\n",
    "    plt.xlabel('epoch')"
   ]
  },
  {
   "cell_type": "markdown",
   "metadata": {},
   "source": [
    "# Train and Test on CIFAR10"
   ]
  },
  {
   "cell_type": "markdown",
   "metadata": {},
   "source": [
    "## ResNet"
   ]
  },
  {
   "cell_type": "code",
   "execution_count": null,
   "metadata": {
    "scrolled": false
   },
   "outputs": [
    {
     "name": "stdout",
     "output_type": "stream",
     "text": [
      "use_cude: True\n",
      "Downloading https://www.cs.toronto.edu/~kriz/cifar-10-python.tar.gz to ../data/cifar10/cifar-10-python.tar.gz\n"
     ]
    }
   ],
   "source": [
    "seed = 1\n",
    "log_interval = 50\n",
    "in_channels  = 3\n",
    "\n",
    "epochs = 300\n",
    "loss = np.zeros((epochs,2))\n",
    "accuracy = np.zeros((epochs,2))\n",
    "\n",
    "kwargs={\"in_channels\":3,\n",
    "        \"num_bases\":6,\n",
    "        \"initializer\":'FB'\n",
    "       }\n",
    "\n",
    "model = ResNet50(**kwargs)\n",
    "main(model, \n",
    "      batch_size=64, \n",
    "      lr=1e-1, \n",
    "      momentum=0.9, \n",
    "      epochs=epochs, \n",
    "      weight_decay=0, \n",
    "      step_size=30,\n",
    "      gamma=0.5,\n",
    "      GPU='cuda:1',\n",
    "      test_id = 3,\n",
    "      L1_norm = 1e-5,\n",
    "      no_cuda=False)"
   ]
  },
  {
   "cell_type": "markdown",
   "metadata": {},
   "source": [
    "# With L1 norm"
   ]
  },
  {
   "cell_type": "markdown",
   "metadata": {},
   "source": [
    "|id | Optim  |epochs  |   lr  | L1-norm|  momentum |batch_size| lr_step| gamma  | num_bases|base_type|train_acc | test_acc|\n",
    "|---|---|---|--- |---|---|---|---|---|---|---|---|---|\n",
    "| 1 |SGD |300|1e-1|1e-6  |0.9|64| 30 |0.5| 6  |FB| 0.91922  | 0.7689|\n",
    "| 2 |SGD |300|1e-1|1e-7  |0.9|64| 30 |0.5| 6  |FB|   | |"
   ]
  },
  {
   "cell_type": "markdown",
   "metadata": {},
   "source": [
    "# Tuning"
   ]
  },
  {
   "cell_type": "markdown",
   "metadata": {},
   "source": [
    "|id | Optim  |epochs  |   lr  | weight_decay|  momentum |batch_size| lr_step| gamma  | num_bases|base_type|train_acc | test_acc|\n",
    "|---|---|---|--- |---|---|---|---|---|---|---|---|---|\n",
    "| 1 |SGD |300|1e-2|5e-5  |0.5|64| 30 |0.5| 5  |FB| 0.99936  | 0.8286|\n",
    "| 2 | ADAM|300|1e-2|1e-4  | None  |64|30  |0.5| 5  |FB| 0.80468  | 0.769|\n",
    "|  3|SGD| 300|5e-3|5e-5 | 0.9 | 64| 30| 0.5| 5  |FB| 0.9754|0.7323|\n",
    "| 4 |SGD |300|1.5e-2|5e-5  |0.9|64| 30 |0.5| 5  |FB|0.99 |0.6914 |\n",
    "| 5 |SGD |300|1e-3|5e-5  |0.9|80| 30 |0.5| 5  |FB|0.95318 |0.7378 |\n",
    "| 6 |SGD |300|1e-2|5e-5  |0.9|64| 30 |0.5| 5  |FB| 0.97354 |0.7278 |\n",
    "| 7 |SGD |300|1e-1|5e-4  |0.9|64| 30 |0.5| 5  |FB| 0.99542 | 0.8449|\n",
    "| 8 |SGD |300|1e-1|5e-4  |0.9|64| 30 |0.5| 3  |FB| 0.99334 |0.8341 |\n",
    "| 9 |SGD |300|1e-1|5e-4  |0.9|64| 30 |0.5| 5  |FB|  0.99922|0.8408 |\n",
    "| 10 |SGD |400|1e-1|5e-4  |0.9|64| 30 |0.5| 3  |random(first)+FB(middle)| 0.99656 |0.8264|\n",
    "| 11 |SGD |400|1e-1|5e-4  |0.9|64| 30 |0.5| 5  |random(first)+FB(middle)| 0.99756 |0.8541|\n",
    "| 12 |SGD |400|1e-1|5e-4  |0.9|64| 30 |0.5| 3  |PCA(first)+FB(middle)| 0.9932 |0.8615|\n",
    "| 13 |SGD |400|1e-1|5e-4  |0.9|64| 30 |0.5| 5  |PCA(first)+FB(middle)| 0.99749 |0.8798|\n",
    "| 14 |SGD |300|1e-1|5e-4  |0.9|64| 30 |0.5| 9  |PCA| 0.9994 |0.8956|\n",
    "| 15 |SGD |300|1e-1|5e-4  |0.9|64| 30 |0.5| 9  |random| 0.99852 |0.8464|\n",
    "| 16 |SGD |300|1e-1|5e-4  |0.9|64| 30 |0.5| 5  |random| 0.99232|0.8315|\n",
    "| 17 |SGD |300|1e-1|5e-4  |0.9|64| 30 |0.5| 5  |PCA| 0.99808 |0.8802|\n",
    "| 18 |SGD |300|1e-1|5e-4  |0.9|64| 30 |0.5| 3  |PCA| 0.99692 |0.8602|\n",
    "| 19 |SGD |300|1e-1|5e-4  |0.9|64| 30 |0.5| 3  |random| 0.99625 |0.8029|\n",
    "| 20 |SGD |300|1e-1|5e-4  |0.9|64| 30 |0.5| 3  |random|  ||"
   ]
  },
  {
   "cell_type": "markdown",
   "metadata": {},
   "source": []
  }
 ],
 "metadata": {
  "kernelspec": {
   "display_name": "Python 3",
   "language": "python",
   "name": "python3"
  },
  "language_info": {
   "codemirror_mode": {
    "name": "ipython",
    "version": 3
   },
   "file_extension": ".py",
   "mimetype": "text/x-python",
   "name": "python",
   "nbconvert_exporter": "python",
   "pygments_lexer": "ipython3",
   "version": "3.6.6"
  }
 },
 "nbformat": 4,
 "nbformat_minor": 2
}
